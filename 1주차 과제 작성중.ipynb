{
  "nbformat": 4,
  "nbformat_minor": 0,
  "metadata": {
    "colab": {
      "name": "Untitled2.ipynb",
      "provenance": [],
      "authorship_tag": "ABX9TyMRXqY5cJoQywAzfzRPISfT",
      "include_colab_link": true
    },
    "kernelspec": {
      "name": "python3",
      "display_name": "Python 3"
    }
  },
  "cells": [
    {
      "cell_type": "markdown",
      "metadata": {
        "id": "view-in-github",
        "colab_type": "text"
      },
      "source": [
        "<a href=\"https://colab.research.google.com/github/yang-suyeol/Pre-course/blob/master/1%EC%A3%BC%EC%B0%A8%20%EA%B3%BC%EC%A0%9C%20%EC%9E%91%EC%84%B1%EC%A4%91.ipynb\" target=\"_parent\"><img src=\"https://colab.research.google.com/assets/colab-badge.svg\" alt=\"Open In Colab\"/></a>"
      ]
    },
    {
      "cell_type": "markdown",
      "metadata": {
        "id": "kZA76zeQB0X2",
        "colab_type": "text"
      },
      "source": [
        "#1주차 과제\n",
        "___\n",
        "##언어\n",
        "* 일번\n",
        "* 이번\n",
        "\n",
        "![구글 이미지](https://ppss.kr/wp-content/uploads/2020/01/01-44-540x304.jpg)\n",
        "\n",
        "##음성\n",
        "\n",
        "##이미지\n",
        "\n",
        "##자율주행\n"
      ]
    }
  ]
}